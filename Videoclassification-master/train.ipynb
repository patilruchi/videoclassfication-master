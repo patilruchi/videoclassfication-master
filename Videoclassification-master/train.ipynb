{
  "cells": [
    {
      "cell_type": "code",
      "execution_count": 6,
      "metadata": {
        "colab": {
          "base_uri": "https://localhost:8080/",
          "height": 52
        },
        "colab_type": "code",
        "id": "YNEqwGzTPgDW",
        "outputId": "65c631ac-f8f9-48e7-f1a9-003311047a26"
      },
      "outputs": [
        {
          "ename": "ModuleNotFoundError",
          "evalue": "No module named 'google_drive_downloader'",
          "output_type": "error",
          "traceback": [
            "\u001b[1;31m---------------------------------------------------------------------------\u001b[0m",
            "\u001b[1;31mModuleNotFoundError\u001b[0m                       Traceback (most recent call last)",
            "Cell \u001b[1;32mIn [6], line 1\u001b[0m\n\u001b[1;32m----> 1\u001b[0m \u001b[38;5;28;01mfrom\u001b[39;00m \u001b[38;5;21;01mgoogle_drive_downloader\u001b[39;00m \u001b[38;5;28;01mimport\u001b[39;00m GoogleDriveDownloader \u001b[38;5;28;01mas\u001b[39;00m gdd\n\u001b[0;32m      2\u001b[0m gdd\u001b[38;5;241m.\u001b[39mdownload_file_from_google_drive(file_id\u001b[38;5;241m=\u001b[39m\u001b[38;5;124m'\u001b[39m\u001b[38;5;124m1TdfOz-MVrA_XP8h8oXd8IBTvOXwbFN1Y\u001b[39m\u001b[38;5;124m'\u001b[39m,\n\u001b[0;32m      3\u001b[0m                                     dest_path\u001b[38;5;241m=\u001b[39m\u001b[38;5;124m'\u001b[39m\u001b[38;5;124m/content/data.zip\u001b[39m\u001b[38;5;124m'\u001b[39m,\n\u001b[0;32m      4\u001b[0m                                     unzip\u001b[38;5;241m=\u001b[39m\u001b[38;5;28;01mTrue\u001b[39;00m)\n",
            "\u001b[1;31mModuleNotFoundError\u001b[0m: No module named 'google_drive_downloader'"
          ]
        }
      ],
      "source": [
        "from google_drive_downloader import GoogleDriveDownloader as gdd\n",
        "gdd.download_file_from_google_drive(file_id='1TdfOz-MVrA_XP8h8oXd8IBTvOXwbFN1Y',\n",
        "                                    dest_path='/content/data.zip',\n",
        "                                    unzip=True)"
      ]
    },
    {
      "cell_type": "code",
      "execution_count": null,
      "metadata": {
        "colab": {
          "base_uri": "https://localhost:8080/",
          "height": 72
        },
        "colab_type": "code",
        "id": "gfdq8bSO7s0a",
        "outputId": "038c2d3b-2a64-4f6f-edfd-a6d7b17bf193"
      },
      "outputs": [
        {
          "name": "stderr",
          "output_type": "stream",
          "text": [
            "/usr/local/lib/python3.6/dist-packages/tqdm/autonotebook/__init__.py:14: TqdmExperimentalWarning: Using `tqdm.autonotebook.tqdm` in notebook mode. Use `tqdm.tqdm` instead to force console mode (e.g. in jupyter console)\n",
            "  \" (e.g. in jupyter console)\", TqdmExperimentalWarning)\n"
          ]
        }
      ],
      "source": [
        "import torchvision\n",
        "import torch\n",
        "from torch import nn\n",
        "import torch.nn.functional as F\n",
        "import torchvision.models as models\n",
        "import torch.optim as optim\n",
        "import copy\n",
        "import os\n",
        "from tqdm.autonotebook import tqdm\n",
        "import matplotlib.pyplot as plt\n",
        "from torch.utils.data import Dataset\n",
        "from torchvision import transforms\n",
        "from torch.utils.data import DataLoader\n",
        "import numpy as np\n",
        "from torch.utils.data.sampler import SubsetRandomSampler\n",
        "import cv2\n",
        "import sys"
      ]
    },
    {
      "cell_type": "code",
      "execution_count": null,
      "metadata": {
        "colab": {
          "base_uri": "https://localhost:8080/",
          "height": 140
        },
        "colab_type": "code",
        "id": "hFDscTBfPNt1",
        "outputId": "53419b6a-93b7-4566-cf77-9919410c7467"
      },
      "outputs": [
        {
          "name": "stdout",
          "output_type": "stream",
          "text": [
            "Cloning into 'Videoclassification'...\n",
            "remote: Enumerating objects: 14, done.\u001b[K\n",
            "remote: Counting objects:   7% (1/14)   \u001b[K\rremote: Counting objects:  14% (2/14)   \u001b[K\rremote: Counting objects:  21% (3/14)   \u001b[K\rremote: Counting objects:  28% (4/14)   \u001b[K\rremote: Counting objects:  35% (5/14)   \u001b[K\rremote: Counting objects:  42% (6/14)   \u001b[K\rremote: Counting objects:  50% (7/14)   \u001b[K\rremote: Counting objects:  57% (8/14)   \u001b[K\rremote: Counting objects:  64% (9/14)   \u001b[K\rremote: Counting objects:  71% (10/14)   \u001b[K\rremote: Counting objects:  78% (11/14)   \u001b[K\rremote: Counting objects:  85% (12/14)   \u001b[K\rremote: Counting objects:  92% (13/14)   \u001b[K\rremote: Counting objects: 100% (14/14)   \u001b[K\rremote: Counting objects: 100% (14/14), done.\u001b[K\n",
            "remote: Compressing objects:   8% (1/12)   \u001b[K\rremote: Compressing objects:  16% (2/12)   \u001b[K\rremote: Compressing objects:  25% (3/12)   \u001b[K\rremote: Compressing objects:  33% (4/12)   \u001b[K\rremote: Compressing objects:  41% (5/12)   \u001b[K\rremote: Compressing objects:  50% (6/12)   \u001b[K\rremote: Compressing objects:  58% (7/12)   \u001b[K\rremote: Compressing objects:  66% (8/12)   \u001b[K\rremote: Compressing objects:  75% (9/12)   \u001b[K\rremote: Compressing objects:  83% (10/12)   \u001b[K\rremote: Compressing objects:  91% (11/12)   \u001b[K\rremote: Compressing objects: 100% (12/12)   \u001b[K\rremote: Compressing objects: 100% (12/12), done.\u001b[K\n",
            "remote: Total 14 (delta 3), reused 0 (delta 0), pack-reused 0\u001b[K\n",
            "Unpacking objects:   7% (1/14)   \rUnpacking objects:  14% (2/14)   \rUnpacking objects:  21% (3/14)   \rUnpacking objects:  28% (4/14)   \rUnpacking objects:  35% (5/14)   \rUnpacking objects:  42% (6/14)   \rUnpacking objects:  50% (7/14)   \rUnpacking objects:  57% (8/14)   \rUnpacking objects:  64% (9/14)   \rUnpacking objects:  71% (10/14)   \rUnpacking objects:  78% (11/14)   \rUnpacking objects:  85% (12/14)   \rUnpacking objects:  92% (13/14)   \rUnpacking objects: 100% (14/14)   \rUnpacking objects: 100% (14/14), done.\n",
            "/content/Videoclassification\n"
          ]
        }
      ],
      "source": [
        "!git clone https://github.com/sanchit2843/Videoclassification\n",
        "%cd Videoclassification"
      ]
    },
    {
      "cell_type": "code",
      "execution_count": 3,
      "metadata": {
        "colab": {},
        "colab_type": "code",
        "id": "__TVncCdN1jN"
      },
      "outputs": [
        {
          "ename": "FileNotFoundError",
          "evalue": "[WinError 3] The system cannot find the path specified: '/content/crime'",
          "output_type": "error",
          "traceback": [
            "\u001b[1;31m---------------------------------------------------------------------------\u001b[0m",
            "\u001b[1;31mFileNotFoundError\u001b[0m                         Traceback (most recent call last)",
            "Cell \u001b[1;32mIn [3], line 3\u001b[0m\n\u001b[0;32m      1\u001b[0m \u001b[38;5;66;03m#Label file:\u001b[39;00m\n\u001b[0;32m      2\u001b[0m data_path \u001b[38;5;241m=\u001b[39m \u001b[38;5;124m'\u001b[39m\u001b[38;5;124m/content/crime\u001b[39m\u001b[38;5;124m'\u001b[39m\n\u001b[1;32m----> 3\u001b[0m classes \u001b[38;5;241m=\u001b[39m \u001b[43mos\u001b[49m\u001b[38;5;241;43m.\u001b[39;49m\u001b[43mlistdir\u001b[49m\u001b[43m(\u001b[49m\u001b[43mdata_path\u001b[49m\u001b[43m)\u001b[49m\n\u001b[0;32m      4\u001b[0m decoder \u001b[38;5;241m=\u001b[39m {}\n\u001b[0;32m      5\u001b[0m \u001b[38;5;28;01mfor\u001b[39;00m i \u001b[38;5;129;01min\u001b[39;00m \u001b[38;5;28mrange\u001b[39m(\u001b[38;5;28mlen\u001b[39m(classes)):\n",
            "\u001b[1;31mFileNotFoundError\u001b[0m: [WinError 3] The system cannot find the path specified: '/content/crime'"
          ]
        }
      ],
      "source": [
        "#Label file:\n",
        "data_path = '/content/crime'\n",
        "classes = os.listdir(data_path)\n",
        "decoder = {}\n",
        "for i in range(len(classes)):\n",
        "    decoder[classes[i]] = i\n",
        "encoder = {}\n",
        "for i in range(len(classes)):\n",
        "    encoder[i] = classes[i]"
      ]
    },
    {
      "cell_type": "code",
      "execution_count": 2,
      "metadata": {
        "colab": {},
        "colab_type": "code",
        "id": "TiuCb0FPCn87"
      },
      "outputs": [
        {
          "ename": "FileNotFoundError",
          "evalue": "[WinError 3] The system cannot find the path specified: '/content/crime'",
          "output_type": "error",
          "traceback": [
            "\u001b[1;31m---------------------------------------------------------------------------\u001b[0m",
            "\u001b[1;31mFileNotFoundError\u001b[0m                         Traceback (most recent call last)",
            "Cell \u001b[1;32mIn [2], line 3\u001b[0m\n\u001b[0;32m      1\u001b[0m \u001b[38;5;28mid\u001b[39m \u001b[38;5;241m=\u001b[39m \u001b[38;5;28mlist\u001b[39m()\n\u001b[0;32m      2\u001b[0m path \u001b[38;5;241m=\u001b[39m \u001b[38;5;124m'\u001b[39m\u001b[38;5;124m/content/crime\u001b[39m\u001b[38;5;124m'\u001b[39m\n\u001b[1;32m----> 3\u001b[0m \u001b[38;5;28;01mfor\u001b[39;00m i \u001b[38;5;129;01min\u001b[39;00m \u001b[43mos\u001b[49m\u001b[38;5;241;43m.\u001b[39;49m\u001b[43mlistdir\u001b[49m\u001b[43m(\u001b[49m\u001b[43mpath\u001b[49m\u001b[43m)\u001b[49m:\n\u001b[0;32m      4\u001b[0m   p1 \u001b[38;5;241m=\u001b[39m os\u001b[38;5;241m.\u001b[39mpath\u001b[38;5;241m.\u001b[39mjoin(path,i)\n\u001b[0;32m      5\u001b[0m   \u001b[38;5;28;01mfor\u001b[39;00m j \u001b[38;5;129;01min\u001b[39;00m os\u001b[38;5;241m.\u001b[39mlistdir(p1):\n",
            "\u001b[1;31mFileNotFoundError\u001b[0m: [WinError 3] The system cannot find the path specified: '/content/crime'"
          ]
        }
      ],
      "source": [
        "id = list()\n",
        "path = '/content/crime'\n",
        "for i in os.listdir(path):\n",
        "  p1 = os.path.join(path,i)\n",
        "  for j in os.listdir(p1):\n",
        "    p2 = os.path.join(p1,j)\n",
        "    id.append((i,p2))"
      ]
    },
    {
      "cell_type": "code",
      "execution_count": 4,
      "metadata": {
        "colab": {},
        "colab_type": "code",
        "id": "v5iUVP4p6VFn"
      },
      "outputs": [
        {
          "ename": "NameError",
          "evalue": "name 'Dataset' is not defined",
          "output_type": "error",
          "traceback": [
            "\u001b[1;31m---------------------------------------------------------------------------\u001b[0m",
            "\u001b[1;31mNameError\u001b[0m                                 Traceback (most recent call last)",
            "Cell \u001b[1;32mIn [4], line 1\u001b[0m\n\u001b[1;32m----> 1\u001b[0m \u001b[38;5;28;01mclass\u001b[39;00m \u001b[38;5;21;01mvideo_dataset\u001b[39;00m(\u001b[43mDataset\u001b[49m):\n\u001b[0;32m      2\u001b[0m     \u001b[38;5;28;01mdef\u001b[39;00m \u001b[38;5;21m__init__\u001b[39m(\u001b[38;5;28mself\u001b[39m,frame_list,sequence_length \u001b[38;5;241m=\u001b[39m \u001b[38;5;241m16\u001b[39m,transform \u001b[38;5;241m=\u001b[39m \u001b[38;5;28;01mNone\u001b[39;00m):\n\u001b[0;32m      3\u001b[0m         \u001b[38;5;28mself\u001b[39m\u001b[38;5;241m.\u001b[39mframe_list \u001b[38;5;241m=\u001b[39m frame_list\n",
            "\u001b[1;31mNameError\u001b[0m: name 'Dataset' is not defined"
          ]
        }
      ],
      "source": [
        "class video_dataset(Dataset):\n",
        "    def __init__(self,frame_list,sequence_length = 16,transform = None):\n",
        "        self.frame_list = frame_list\n",
        "        self.transform = transform\n",
        "        self.sequence_length = sequence_length\n",
        "    def __len__(self):\n",
        "        return len(self.frame_list)\n",
        "    def __getitem__(self,idx):\n",
        "        label,path = self.frame_list[idx]\n",
        "        img = cv2.imread(path)\n",
        "        seq_img = list()\n",
        "        for i in range(16):\n",
        "          img1 = img[:,128*i:128*(i+1),:]\n",
        "          if(self.transform):\n",
        "            img1 = self.transform(img1)\n",
        "          seq_img.append(img1)\n",
        "        seq_image = torch.stack(seq_img)\n",
        "        seq_image = seq_image.reshape(3,16,im_size,im_size)\n",
        "        return seq_image,decoder[label]"
      ]
    },
    {
      "cell_type": "code",
      "execution_count": null,
      "metadata": {
        "colab": {},
        "colab_type": "code",
        "id": "msB4umEmPxj6"
      },
      "outputs": [],
      "source": [
        "im_size = 128\n",
        "mean = [0.4889, 0.4887, 0.4891]\n",
        "std = [0.2074, 0.2074, 0.2074]\n",
        "\n",
        "\n",
        "train_transforms = transforms.Compose([\n",
        "                                        transforms.ToPILImage(),\n",
        "                                        transforms.Resize((im_size,im_size)),\n",
        "                                        transforms.RandomHorizontalFlip(),\n",
        "                                        transforms.RandomRotation(degrees=10),\n",
        "                                        transforms.ToTensor(),\n",
        "                                        transforms.Normalize(mean,std)])\n",
        "\n",
        "train_data = video_dataset(id,sequence_length = 16,transform = train_transforms)\n",
        "train_loader = DataLoader(train_data,batch_size = 8,num_workers = 4 ,shuffle = True)\n",
        "dataloaders = {'train':train_loader}"
      ]
    },
    {
      "cell_type": "code",
      "execution_count": 5,
      "metadata": {
        "colab": {},
        "colab_type": "code",
        "id": "NqtR9UDF72pX"
      },
      "outputs": [
        {
          "name": "stderr",
          "output_type": "stream",
          "text": [
            "c:\\Users\\ruchi\\AppData\\Local\\Programs\\Python\\Python310\\lib\\site-packages\\tqdm\\auto.py:22: TqdmWarning: IProgress not found. Please update jupyter and ipywidgets. See https://ipywidgets.readthedocs.io/en/stable/user_install.html\n",
            "  from .autonotebook import tqdm as notebook_tqdm\n"
          ]
        },
        {
          "ename": "AssertionError",
          "evalue": "Torch not compiled with CUDA enabled",
          "output_type": "error",
          "traceback": [
            "\u001b[1;31m---------------------------------------------------------------------------\u001b[0m",
            "\u001b[1;31mAssertionError\u001b[0m                            Traceback (most recent call last)",
            "Cell \u001b[1;32mIn [5], line 2\u001b[0m\n\u001b[0;32m      1\u001b[0m \u001b[38;5;28;01mfrom\u001b[39;00m \u001b[38;5;21;01mmodel\u001b[39;00m \u001b[38;5;28;01mimport\u001b[39;00m resnet50\n\u001b[1;32m----> 2\u001b[0m model \u001b[38;5;241m=\u001b[39m \u001b[43mresnet50\u001b[49m\u001b[43m(\u001b[49m\u001b[43mclass_num\u001b[49m\u001b[38;5;241;43m=\u001b[39;49m\u001b[38;5;241;43m8\u001b[39;49m\u001b[43m)\u001b[49m\u001b[38;5;241;43m.\u001b[39;49m\u001b[43mto\u001b[49m\u001b[43m(\u001b[49m\u001b[38;5;124;43m'\u001b[39;49m\u001b[38;5;124;43mcuda\u001b[39;49m\u001b[38;5;124;43m'\u001b[39;49m\u001b[43m)\u001b[49m\n",
            "File \u001b[1;32mc:\\Users\\ruchi\\AppData\\Local\\Programs\\Python\\Python310\\lib\\site-packages\\torch\\nn\\modules\\module.py:927\u001b[0m, in \u001b[0;36mModule.to\u001b[1;34m(self, *args, **kwargs)\u001b[0m\n\u001b[0;32m    923\u001b[0m         \u001b[39mreturn\u001b[39;00m t\u001b[39m.\u001b[39mto(device, dtype \u001b[39mif\u001b[39;00m t\u001b[39m.\u001b[39mis_floating_point() \u001b[39mor\u001b[39;00m t\u001b[39m.\u001b[39mis_complex() \u001b[39melse\u001b[39;00m \u001b[39mNone\u001b[39;00m,\n\u001b[0;32m    924\u001b[0m                     non_blocking, memory_format\u001b[39m=\u001b[39mconvert_to_format)\n\u001b[0;32m    925\u001b[0m     \u001b[39mreturn\u001b[39;00m t\u001b[39m.\u001b[39mto(device, dtype \u001b[39mif\u001b[39;00m t\u001b[39m.\u001b[39mis_floating_point() \u001b[39mor\u001b[39;00m t\u001b[39m.\u001b[39mis_complex() \u001b[39melse\u001b[39;00m \u001b[39mNone\u001b[39;00m, non_blocking)\n\u001b[1;32m--> 927\u001b[0m \u001b[39mreturn\u001b[39;00m \u001b[39mself\u001b[39;49m\u001b[39m.\u001b[39;49m_apply(convert)\n",
            "File \u001b[1;32mc:\\Users\\ruchi\\AppData\\Local\\Programs\\Python\\Python310\\lib\\site-packages\\torch\\nn\\modules\\module.py:579\u001b[0m, in \u001b[0;36mModule._apply\u001b[1;34m(self, fn)\u001b[0m\n\u001b[0;32m    577\u001b[0m \u001b[39mdef\u001b[39;00m \u001b[39m_apply\u001b[39m(\u001b[39mself\u001b[39m, fn):\n\u001b[0;32m    578\u001b[0m     \u001b[39mfor\u001b[39;00m module \u001b[39min\u001b[39;00m \u001b[39mself\u001b[39m\u001b[39m.\u001b[39mchildren():\n\u001b[1;32m--> 579\u001b[0m         module\u001b[39m.\u001b[39;49m_apply(fn)\n\u001b[0;32m    581\u001b[0m     \u001b[39mdef\u001b[39;00m \u001b[39mcompute_should_use_set_data\u001b[39m(tensor, tensor_applied):\n\u001b[0;32m    582\u001b[0m         \u001b[39mif\u001b[39;00m torch\u001b[39m.\u001b[39m_has_compatible_shallow_copy_type(tensor, tensor_applied):\n\u001b[0;32m    583\u001b[0m             \u001b[39m# If the new tensor has compatible tensor type as the existing tensor,\u001b[39;00m\n\u001b[0;32m    584\u001b[0m             \u001b[39m# the current behavior is to change the tensor in-place using `.data =`,\u001b[39;00m\n\u001b[1;32m   (...)\u001b[0m\n\u001b[0;32m    589\u001b[0m             \u001b[39m# global flag to let the user control whether they want the future\u001b[39;00m\n\u001b[0;32m    590\u001b[0m             \u001b[39m# behavior of overwriting the existing tensor or not.\u001b[39;00m\n",
            "File \u001b[1;32mc:\\Users\\ruchi\\AppData\\Local\\Programs\\Python\\Python310\\lib\\site-packages\\torch\\nn\\modules\\module.py:602\u001b[0m, in \u001b[0;36mModule._apply\u001b[1;34m(self, fn)\u001b[0m\n\u001b[0;32m    598\u001b[0m \u001b[39m# Tensors stored in modules are graph leaves, and we don't want to\u001b[39;00m\n\u001b[0;32m    599\u001b[0m \u001b[39m# track autograd history of `param_applied`, so we have to use\u001b[39;00m\n\u001b[0;32m    600\u001b[0m \u001b[39m# `with torch.no_grad():`\u001b[39;00m\n\u001b[0;32m    601\u001b[0m \u001b[39mwith\u001b[39;00m torch\u001b[39m.\u001b[39mno_grad():\n\u001b[1;32m--> 602\u001b[0m     param_applied \u001b[39m=\u001b[39m fn(param)\n\u001b[0;32m    603\u001b[0m should_use_set_data \u001b[39m=\u001b[39m compute_should_use_set_data(param, param_applied)\n\u001b[0;32m    604\u001b[0m \u001b[39mif\u001b[39;00m should_use_set_data:\n",
            "File \u001b[1;32mc:\\Users\\ruchi\\AppData\\Local\\Programs\\Python\\Python310\\lib\\site-packages\\torch\\nn\\modules\\module.py:925\u001b[0m, in \u001b[0;36mModule.to.<locals>.convert\u001b[1;34m(t)\u001b[0m\n\u001b[0;32m    922\u001b[0m \u001b[39mif\u001b[39;00m convert_to_format \u001b[39mis\u001b[39;00m \u001b[39mnot\u001b[39;00m \u001b[39mNone\u001b[39;00m \u001b[39mand\u001b[39;00m t\u001b[39m.\u001b[39mdim() \u001b[39min\u001b[39;00m (\u001b[39m4\u001b[39m, \u001b[39m5\u001b[39m):\n\u001b[0;32m    923\u001b[0m     \u001b[39mreturn\u001b[39;00m t\u001b[39m.\u001b[39mto(device, dtype \u001b[39mif\u001b[39;00m t\u001b[39m.\u001b[39mis_floating_point() \u001b[39mor\u001b[39;00m t\u001b[39m.\u001b[39mis_complex() \u001b[39melse\u001b[39;00m \u001b[39mNone\u001b[39;00m,\n\u001b[0;32m    924\u001b[0m                 non_blocking, memory_format\u001b[39m=\u001b[39mconvert_to_format)\n\u001b[1;32m--> 925\u001b[0m \u001b[39mreturn\u001b[39;00m t\u001b[39m.\u001b[39;49mto(device, dtype \u001b[39mif\u001b[39;49;00m t\u001b[39m.\u001b[39;49mis_floating_point() \u001b[39mor\u001b[39;49;00m t\u001b[39m.\u001b[39;49mis_complex() \u001b[39melse\u001b[39;49;00m \u001b[39mNone\u001b[39;49;00m, non_blocking)\n",
            "File \u001b[1;32mc:\\Users\\ruchi\\AppData\\Local\\Programs\\Python\\Python310\\lib\\site-packages\\torch\\cuda\\__init__.py:211\u001b[0m, in \u001b[0;36m_lazy_init\u001b[1;34m()\u001b[0m\n\u001b[0;32m    207\u001b[0m     \u001b[39mraise\u001b[39;00m \u001b[39mRuntimeError\u001b[39;00m(\n\u001b[0;32m    208\u001b[0m         \u001b[39m\"\u001b[39m\u001b[39mCannot re-initialize CUDA in forked subprocess. To use CUDA with \u001b[39m\u001b[39m\"\u001b[39m\n\u001b[0;32m    209\u001b[0m         \u001b[39m\"\u001b[39m\u001b[39mmultiprocessing, you must use the \u001b[39m\u001b[39m'\u001b[39m\u001b[39mspawn\u001b[39m\u001b[39m'\u001b[39m\u001b[39m start method\u001b[39m\u001b[39m\"\u001b[39m)\n\u001b[0;32m    210\u001b[0m \u001b[39mif\u001b[39;00m \u001b[39mnot\u001b[39;00m \u001b[39mhasattr\u001b[39m(torch\u001b[39m.\u001b[39m_C, \u001b[39m'\u001b[39m\u001b[39m_cuda_getDeviceCount\u001b[39m\u001b[39m'\u001b[39m):\n\u001b[1;32m--> 211\u001b[0m     \u001b[39mraise\u001b[39;00m \u001b[39mAssertionError\u001b[39;00m(\u001b[39m\"\u001b[39m\u001b[39mTorch not compiled with CUDA enabled\u001b[39m\u001b[39m\"\u001b[39m)\n\u001b[0;32m    212\u001b[0m \u001b[39mif\u001b[39;00m _cudart \u001b[39mis\u001b[39;00m \u001b[39mNone\u001b[39;00m:\n\u001b[0;32m    213\u001b[0m     \u001b[39mraise\u001b[39;00m \u001b[39mAssertionError\u001b[39;00m(\n\u001b[0;32m    214\u001b[0m         \u001b[39m\"\u001b[39m\u001b[39mlibcudart functions unavailable. It looks like you have a broken build?\u001b[39m\u001b[39m\"\u001b[39m)\n",
            "\u001b[1;31mAssertionError\u001b[0m: Torch not compiled with CUDA enabled"
          ]
        }
      ],
      "source": [
        "from model import resnet50\n",
        "model = resnet50(class_num=8).to('cuda')"
      ]
    },
    {
      "cell_type": "code",
      "execution_count": null,
      "metadata": {
        "colab": {},
        "colab_type": "code",
        "id": "QqyU-0k67-N_"
      },
      "outputs": [],
      "source": [
        "from clr import *\n",
        "device = 'cuda'\n",
        "cls_criterion = nn.CrossEntropyLoss().to(device)\n",
        "optimizer = torch.optim.SGD(model.parameters(), lr=1e-3, momentum = 0.9,weight_decay = 1e-4)\n",
        "num_epochs = 20\n",
        "onecyc = OneCycle(len(train_loader)*num_epochs,1e-3)"
      ]
    },
    {
      "cell_type": "code",
      "execution_count": null,
      "metadata": {
        "colab": {
          "base_uri": "https://localhost:8080/",
          "height": 1000
        },
        "colab_type": "code",
        "id": "ybCCnE-T8GzU",
        "outputId": "c61a164b-7d91-4455-ee0a-f92374f9aaca"
      },
      "outputs": [
        {
          "name": "stdout",
          "output_type": "stream",
          "text": [
            "\n",
            "--- Epoch 0 ---\n",
            "\n",
            "--- Phase train ---\n",
            "[Epoch 0/20] [Batch 437/438] [Loss: 2.001631 (1.511374), Acc: 0.00% (41.87%)]\n",
            "train , acc: 41.86643835616438\n",
            "\n",
            "--- Epoch 1 ---\n",
            "\n",
            "--- Phase train ---\n",
            "[Epoch 1/20] [Batch 437/438] [Loss: 1.151204 (1.305457), Acc: 50.00% (49.12%)]\n",
            "train , acc: 49.11529680365297\n",
            "\n",
            "--- Epoch 2 ---\n",
            "\n",
            "--- Phase train ---\n",
            "[Epoch 2/20] [Batch 437/438] [Loss: 1.231476 (1.179129), Acc: 50.00% (53.97%)]\n",
            "train , acc: 53.96689497716895\n",
            "\n",
            "--- Epoch 3 ---\n",
            "\n",
            "--- Phase train ---\n",
            "[Epoch 3/20] [Batch 437/438] [Loss: 0.774739 (1.041741), Acc: 75.00% (60.62%)]\n",
            "train , acc: 60.61643835616438\n",
            "\n",
            "--- Epoch 4 ---\n",
            "\n",
            "--- Phase train ---\n",
            "[Epoch 4/20] [Batch 437/438] [Loss: 0.276145 (0.809180), Acc: 75.00% (70.01%)]\n",
            "train , acc: 70.00570776255708\n",
            "\n",
            "--- Epoch 5 ---\n",
            "\n",
            "--- Phase train ---\n",
            "[Epoch 5/20] [Batch 437/438] [Loss: 1.330135 (0.614348), Acc: 50.00% (78.00%)]\n",
            "train , acc: 77.99657534246575\n",
            "\n",
            "--- Epoch 6 ---\n",
            "\n",
            "--- Phase train ---\n",
            "[Epoch 6/20] [Batch 437/438] [Loss: 1.023739 (0.401012), Acc: 75.00% (85.79%)]\n",
            "train , acc: 85.78767123287672\n",
            "\n",
            "--- Epoch 7 ---\n",
            "\n",
            "--- Phase train ---\n",
            "[Epoch 7/20] [Batch 437/438] [Loss: 2.653315 (0.342477), Acc: 25.00% (88.16%)]\n",
            "train , acc: 88.15639269406392\n",
            "\n",
            "--- Epoch 8 ---\n",
            "\n",
            "--- Phase train ---\n",
            "[Epoch 8/20] [Batch 437/438] [Loss: 0.026995 (0.223468), Acc: 100.00% (92.15%)]\n",
            "train , acc: 92.15182648401826\n",
            "\n",
            "--- Epoch 9 ---\n",
            "\n",
            "--- Phase train ---\n",
            "[Epoch 9/20] [Batch 437/438] [Loss: 0.071458 (0.188113), Acc: 100.00% (93.64%)]\n",
            "train , acc: 93.63584474885845\n",
            "\n",
            "--- Epoch 10 ---\n",
            "\n",
            "--- Phase train ---\n",
            "[Epoch 10/20] [Batch 437/438] [Loss: 0.077914 (0.125080), Acc: 100.00% (95.66%)]\n",
            "train , acc: 95.662100456621\n",
            "\n",
            "--- Epoch 11 ---\n",
            "\n",
            "--- Phase train ---\n",
            "[Epoch 11/20] [Batch 437/438] [Loss: 0.109610 (0.097384), Acc: 100.00% (96.89%)]\n",
            "train , acc: 96.8892694063927\n",
            "\n",
            "--- Epoch 12 ---\n",
            "\n",
            "--- Phase train ---\n",
            "[Epoch 12/20] [Batch 437/438] [Loss: 0.149528 (0.073297), Acc: 100.00% (97.57%)]\n",
            "train , acc: 97.57420091324201\n",
            "\n",
            "--- Epoch 13 ---\n",
            "\n",
            "--- Phase train ---\n",
            "[Epoch 13/20] [Batch 437/438] [Loss: 0.000738 (0.064217), Acc: 100.00% (97.75%)]\n",
            "train , acc: 97.74543378995433\n",
            "\n",
            "--- Epoch 14 ---\n",
            "\n",
            "--- Phase train ---\n",
            "[Epoch 14/20] [Batch 437/438] [Loss: 0.006020 (0.036686), Acc: 100.00% (98.97%)]\n",
            "train , acc: 98.97260273972603\n",
            "\n",
            "--- Epoch 15 ---\n",
            "\n",
            "--- Phase train ---\n",
            "[Epoch 15/20] [Batch 437/438] [Loss: 0.000287 (0.029383), Acc: 100.00% (99.00%)]\n",
            "train , acc: 99.00114155251141\n",
            "\n",
            "--- Epoch 16 ---\n",
            "\n",
            "--- Phase train ---\n",
            "[Epoch 16/20] [Batch 437/438] [Loss: 0.001510 (0.020584), Acc: 100.00% (99.40%)]\n",
            "train , acc: 99.40068493150685\n",
            "\n",
            "--- Epoch 17 ---\n",
            "\n",
            "--- Phase train ---\n",
            "[Epoch 17/20] [Batch 437/438] [Loss: 0.357412 (0.018616), Acc: 75.00% (99.32%)]\n",
            "train , acc: 99.31506849315069\n",
            "\n",
            "--- Epoch 18 ---\n",
            "\n",
            "--- Phase train ---\n",
            "[Epoch 18/20] [Batch 437/438] [Loss: 0.043789 (0.012762), Acc: 100.00% (99.66%)]\n",
            "train , acc: 99.65753424657534\n",
            "\n",
            "--- Epoch 19 ---\n",
            "\n",
            "--- Phase train ---\n",
            "[Epoch 19/20] [Batch 437/438] [Loss: 0.003324 (0.011055), Acc: 100.00% (99.69%)]\n",
            "train , acc: 99.68607305936074\n"
          ]
        }
      ],
      "source": [
        "os.makedirs('/content/drive/My Drive/weights_crime',exist_ok = True)\n",
        "from torch.autograd import Variable\n",
        "iteration = 0\n",
        "acc_all = list()\n",
        "loss_all = list()\n",
        "    \n",
        "for epoch in range(num_epochs):\n",
        "    print('')\n",
        "    print(f\"--- Epoch {epoch} ---\")\n",
        "    phase1 = dataloaders.keys()\n",
        "    for phase in phase1:\n",
        "        print('')\n",
        "        print(f\"--- Phase {phase} ---\")\n",
        "        epoch_metrics = {\"loss\": [], \"acc\": []}\n",
        "        for batch_i, (X, y) in enumerate(dataloaders[phase]):\n",
        "            #iteration = iteration+1\n",
        "            image_sequences = Variable(X.to(device), requires_grad=True)\n",
        "            labels = Variable(y.to(device), requires_grad=False)\n",
        "            optimizer.zero_grad()\n",
        "            #model.lstm.reset_hidden_state()\n",
        "            predictions = model(image_sequences)\n",
        "            loss = cls_criterion(predictions, labels)\n",
        "            acc = 100 * (predictions.detach().argmax(1) == labels).cpu().numpy().mean()\n",
        "            loss.backward()\n",
        "            optimizer.step()\n",
        "            epoch_metrics[\"loss\"].append(loss.item())\n",
        "            epoch_metrics[\"acc\"].append(acc)\n",
        "            if(phase=='train'):\n",
        "                lr,mom = onecyc.calc()\n",
        "                update_lr(optimizer, lr)\n",
        "                update_mom(optimizer, mom)\n",
        "            batches_done = epoch * len(dataloaders[phase]) + batch_i\n",
        "            batches_left = num_epochs * len(dataloaders[phase]) - batches_done\n",
        "            sys.stdout.write(\n",
        "                    \"\\r[Epoch %d/%d] [Batch %d/%d] [Loss: %f (%f), Acc: %.2f%% (%.2f%%)]\"\n",
        "                    % (\n",
        "                        epoch,\n",
        "                        num_epochs,\n",
        "                        batch_i,\n",
        "                        len(dataloaders[phase]),\n",
        "                        loss.item(),\n",
        "                        np.mean(epoch_metrics[\"loss\"]),\n",
        "                        acc,\n",
        "                        np.mean(epoch_metrics[\"acc\"]),\n",
        "                    )\n",
        "                )\n",
        "\n",
        "                # Empty cache\n",
        "            if torch.cuda.is_available():\n",
        "                torch.cuda.empty_cache()\n",
        "            \n",
        "        print('')\n",
        "        print('{} , acc: {}'.format(phase,np.mean(epoch_metrics[\"acc\"])))\n",
        "        torch.save(model.state_dict(),'/content/drive/My Drive/weights_crime/c3d_{}.h5'.format(epoch))\n",
        "        if(phase=='train'):\n",
        "          acc_all.append(np.mean(epoch_metrics[\"acc\"]))\n",
        "          loss_all.append(np.mean(epoch_metrics[\"loss\"]))"
      ]
    },
    {
      "cell_type": "code",
      "execution_count": null,
      "metadata": {
        "colab": {},
        "colab_type": "code",
        "id": "sH7XMOAjV7DH"
      },
      "outputs": [],
      "source": [
        "def error_plot(loss):\n",
        "    plt.figure(figsize=(10,5))\n",
        "    plt.plot(loss)\n",
        "    plt.title(\"Training loss plot\")\n",
        "    plt.xlabel(\"epochs\")\n",
        "    plt.ylabel(\"Loss\")\n",
        "    plt.show()\n",
        "def acc_plot(acc):\n",
        "    plt.figure(figsize=(10,5))\n",
        "    plt.plot(acc)\n",
        "    plt.title(\"Training accuracy plot\")\n",
        "    plt.xlabel(\"epochs\")\n",
        "    plt.ylabel(\"accuracy\")\n",
        "    plt.show()"
      ]
    },
    {
      "cell_type": "code",
      "execution_count": null,
      "metadata": {
        "colab": {
          "base_uri": "https://localhost:8080/",
          "height": 369
        },
        "colab_type": "code",
        "id": "QoXZ08iHXbD2",
        "outputId": "e725be2b-ade8-4722-9806-10b6d026a33d"
      },
      "outputs": [
        {
          "data": {
            "text/plain": [
              "[1.5113742563822499,\n",
              " 1.305457015968349,\n",
              " 1.17912877885174,\n",
              " 1.041740705569585,\n",
              " 0.8091797970201327,\n",
              " 0.6143478534809531,\n",
              " 0.4010123163461685,\n",
              " 0.3424767658590726,\n",
              " 0.22346783888666596,\n",
              " 0.18811332580705756,\n",
              " 0.1250801009538511,\n",
              " 0.09738352649832425,\n",
              " 0.07329675657291936,\n",
              " 0.06421710863777491,\n",
              " 0.03668630755927465,\n",
              " 0.029382538033402673,\n",
              " 0.02058421796587504,\n",
              " 0.01861625916609481,\n",
              " 0.012762131824340994,\n",
              " 0.011054905242027213]"
            ]
          },
          "execution_count": 12,
          "metadata": {
            "tags": []
          },
          "output_type": "execute_result"
        }
      ],
      "source": [
        "loss_all"
      ]
    },
    {
      "cell_type": "code",
      "execution_count": null,
      "metadata": {
        "colab": {
          "base_uri": "https://localhost:8080/",
          "height": 350
        },
        "colab_type": "code",
        "id": "YtVNjFyeWVrd",
        "outputId": "94439267-4308-404b-d552-529f6afe290b"
      },
      "outputs": [
        {
          "data": {
            "image/png": "[encoded data removed]",
            "text/plain": [
              "<Figure size 720x360 with 1 Axes>"
            ]
          },
          "metadata": {
            "tags": []
          },
          "output_type": "display_data"
        }
      ],
      "source": [
        "error_plot(loss_all)"
      ]
    },
    {
      "cell_type": "code",
      "execution_count": null,
      "metadata": {
        "colab": {
          "base_uri": "https://localhost:8080/",
          "height": 350
        },
        "colab_type": "code",
        "id": "dybBWSyyWZfY",
        "outputId": "831e8b30-67d0-494a-ca6c-666f63637f7f"
      },
      "outputs": [
        {
          "data": {
            "image/png": "[encoded data removed]",
            "text/plain": [
              "<Figure size 720x360 with 1 Axes>"
            ]
          },
          "metadata": {
            "tags": []
          },
          "output_type": "display_data"
        }
      ],
      "source": [
        "acc_plot(acc_all)"
      ]
    }
  ],
  "metadata": {
    "accelerator": "GPU",
    "colab": {
      "collapsed_sections": [],
      "name": "video_dataset_creation.ipynb",
      "provenance": [],
      "version": "0.3.2"
    },
    "kernelspec": {
      "display_name": "Python 3.10.6 64-bit",
      "language": "python",
      "name": "python3"
    },
    "language_info": {
      "codemirror_mode": {
        "name": "ipython",
        "version": 3
      },
      "file_extension": ".py",
      "mimetype": "text/x-python",
      "name": "python",
      "nbconvert_exporter": "python",
      "pygments_lexer": "ipython3",
      "version": "3.10.6"
    },
    "vscode": {
      "interpreter": {
        "hash": "aab49d8daadd7ba4eb512375fe9d2d67de1e07cca3b3cad0660d0af9c2b16d9f"
      }
    }
  },
  "nbformat": 4,
  "nbformat_minor": 0
}
