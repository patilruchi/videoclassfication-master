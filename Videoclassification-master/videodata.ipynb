{
  "cells": [
    {
      "cell_type": "markdown",
      "metadata": {
        "colab_type": "text",
        "id": "view-in-github"
      },
      "source": [
        "<a href=\"https://colab.research.google.com/github/sanchit2843/Videoclassification/blob/master/videodata.ipynb\" target=\"_parent\"><img src=\"https://colab.research.google.com/assets/colab-badge.svg\" alt=\"Open In Colab\"/></a>"
      ]
    },
    {
      "cell_type": "code",
      "execution_count": 2,
      "metadata": {
        "colab": {},
        "colab_type": "code",
        "id": "ppO3QcOTLfrE"
      },
      "outputs": [
        {
          "name": "stdout",
          "output_type": "stream",
          "text": [
            "Looking in indexes: https://test.pypi.org/simple/\n",
            "Requirement already satisfied: supportlib in c:\\users\\ruchi\\appdata\\local\\programs\\python\\python310\\lib\\site-packages (0.1.0)\n"
          ]
        },
        {
          "ename": "ModuleNotFoundError",
          "evalue": "No module named 'google'",
          "output_type": "error",
          "traceback": [
            "\u001b[1;31m---------------------------------------------------------------------------\u001b[0m",
            "\u001b[1;31mModuleNotFoundError\u001b[0m                       Traceback (most recent call last)",
            "Cell \u001b[1;32mIn [2], line 4\u001b[0m\n\u001b[0;32m      2\u001b[0m get_ipython()\u001b[38;5;241m.\u001b[39msystem(\u001b[38;5;124m'\u001b[39m\u001b[38;5;124mpip install -i https://test.pypi.org/simple/ supportlib\u001b[39m\u001b[38;5;124m'\u001b[39m)\n\u001b[0;32m      3\u001b[0m \u001b[38;5;28;01mimport\u001b[39;00m \u001b[38;5;21;01msupportlib\u001b[39;00m\u001b[38;5;21;01m.\u001b[39;00m\u001b[38;5;21;01mgettingdata\u001b[39;00m \u001b[38;5;28;01mas\u001b[39;00m \u001b[38;5;21;01mgetdata\u001b[39;00m\n\u001b[1;32m----> 4\u001b[0m \u001b[43mgetdata\u001b[49m\u001b[38;5;241;43m.\u001b[39;49m\u001b[43mkaggle\u001b[49m\u001b[43m(\u001b[49m\u001b[43m)\u001b[49m\n\u001b[0;32m      5\u001b[0m get_ipython()\u001b[38;5;241m.\u001b[39msystem(\u001b[38;5;124m'\u001b[39m\u001b[38;5;124mkaggle datasets download -d mission-ai/crimeucfdataset\u001b[39m\u001b[38;5;124m'\u001b[39m)\n\u001b[0;32m      6\u001b[0m getdata\u001b[38;5;241m.\u001b[39mzipextract(\u001b[38;5;124m'\u001b[39m\u001b[38;5;124m/content/crimeucfdataset.zip\u001b[39m\u001b[38;5;124m'\u001b[39m)\n",
            "File \u001b[1;32mc:\\Users\\ruchi\\AppData\\Local\\Programs\\Python\\Python310\\lib\\site-packages\\supportlib\\gettingdata.py:28\u001b[0m, in \u001b[0;36mkaggle\u001b[1;34m()\u001b[0m\n\u001b[0;32m     27\u001b[0m \u001b[39mdef\u001b[39;00m \u001b[39mkaggle\u001b[39m():\n\u001b[1;32m---> 28\u001b[0m     \u001b[39mfrom\u001b[39;00m \u001b[39mgoogle\u001b[39;00m\u001b[39m.\u001b[39;00m\u001b[39mcolab\u001b[39;00m \u001b[39mimport\u001b[39;00m files\n\u001b[0;32m     29\u001b[0m     files\u001b[39m.\u001b[39mupload()\n\u001b[0;32m     30\u001b[0m     os\u001b[39m.\u001b[39msystem(\u001b[39m\"\u001b[39m\u001b[39mmkdir -p ~/.kaggle\u001b[39m\u001b[39m\"\u001b[39m)\n",
            "\u001b[1;31mModuleNotFoundError\u001b[0m: No module named 'google'"
          ]
        }
      ],
      "source": [
        "#Upload kaggle.json file\n",
        "!pip install -i https://test.pypi.org/simple/ supportlib\n",
        "import supportlib.gettingdata as getdata\n",
        "getdata.kaggle()\n",
        "!kaggle datasets download -d mission-ai/crimeucfdataset\n",
        "getdata.zipextract('/content/crimeucfdataset.zip')"
      ]
    },
    {
      "cell_type": "code",
      "execution_count": null,
      "metadata": {
        "colab": {},
        "colab_type": "code",
        "id": "dxHT3jBOLqLX"
      },
      "outputs": [],
      "source": [
        "!sudo apt-get install -y python-dev pkg-config\n",
        "!sudo apt-get install -y \\\n",
        "    libavformat-dev libavcodec-dev libavdevice-dev \\\n",
        "    libavutil-dev libswscale-dev libswresample-dev libavfilter-dev\n",
        "!pip install av\n",
        "\n",
        "import av\n",
        "import glob\n",
        "import os\n",
        "import time\n",
        "import tqdm\n",
        "import datetime\n",
        "import argparse"
      ]
    },
    {
      "cell_type": "code",
      "execution_count": null,
      "metadata": {
        "colab": {},
        "colab_type": "code",
        "id": "BJEavZjGLx5c"
      },
      "outputs": [],
      "source": [
        "def video_to_frame(path,out_path):\n",
        "    vidcap = cv2.VideoCapture(path)\n",
        "    success,image = vidcap.read()\n",
        "    count = 0\n",
        "    while success:\n",
        "      cv2.imwrite(os.path.join(out_path,\"{}.jpg\".format(count)), image)\n",
        "      success,image = vidcap.read()\n",
        "      count += 1"
      ]
    },
    {
      "cell_type": "code",
      "execution_count": null,
      "metadata": {
        "colab": {},
        "colab_type": "code",
        "id": "kJ_JWODgL3Nh"
      },
      "outputs": [],
      "source": [
        "def extract_frames(video_path):\n",
        "    frames = []\n",
        "    video = av.open(video_path)\n",
        "    for frame in video.decode(0):\n",
        "        yield frame.to_image()"
      ]
    },
    {
      "cell_type": "code",
      "execution_count": null,
      "metadata": {
        "colab": {},
        "colab_type": "code",
        "id": "AI2b5lugL4i3"
      },
      "outputs": [],
      "source": [
        "#Anomaly videos part1\n",
        "from tqdm.autonotebook import tqdm\n",
        "path = '/content/Anomaly_Dataset/Anomaly_Videos/Anomaly-Videos-Part-1'\n",
        "result = '/content/Dataset'\n",
        "\n",
        "for i in tqdm(os.listdir(path)):\n",
        "  p1 = os.path.join(path,i)\n",
        "  r1 = os.path.join(result,i)\n",
        "  if os.path.exists(r1):\n",
        "            continue\n",
        "  os.makedirs(r1,exist_ok = True)\n",
        "  for j in os.listdir(p1):\n",
        "    vid_path = os.path.join(p1,j)\n",
        "    r2 = os.path.join(r1,j[:-4])\n",
        "    os.makedirs(r2,exist_ok = True)\n",
        "    for j, frame in enumerate((extract_frames(vid_path))):\n",
        "      frame.save(os.path.join(r2, f\"{j}.jpg\"))"
      ]
    },
    {
      "cell_type": "code",
      "execution_count": null,
      "metadata": {
        "colab": {},
        "colab_type": "code",
        "id": "VfE3W105L7Ik"
      },
      "outputs": [],
      "source": [
        "#Anomaly videos part2\n",
        "from tqdm.autonotebook import tqdm\n",
        "path = '/content/Anomaly_Dataset/Anomaly_Videos/Anomaly-Videos-Part-2'\n",
        "result = '/content/Dataset'\n",
        "\n",
        "for i in tqdm(os.listdir(path)):\n",
        "  p1 = os.path.join(path,i)\n",
        "  r1 = os.path.join(result,i)\n",
        "  if os.path.exists(r1):\n",
        "            continue\n",
        "  os.makedirs(r1,exist_ok = True)\n",
        "  for j in os.listdir(p1):\n",
        "    vid_path = os.path.join(p1,j)\n",
        "    r2 = os.path.join(r1,j[:-4])\n",
        "    os.makedirs(r2,exist_ok = True)\n",
        "    for j, frame in enumerate((extract_frames(vid_path))):\n",
        "      frame.save(os.path.join(r2, f\"{j}.jpg\"))"
      ]
    },
    {
      "cell_type": "code",
      "execution_count": null,
      "metadata": {
        "colab": {},
        "colab_type": "code",
        "id": "h6agWZGsL8iL"
      },
      "outputs": [],
      "source": [
        "#Normal class\n",
        "from tqdm.autonotebook import tqdm\n",
        "path = '/content/Anomaly_Dataset/Anomaly_Videos/Normal-Videos-Part-1'\n",
        "result = '/content/Dataset/normal'\n",
        "\n",
        "for i in tqdm(os.listdir(path)):\n",
        "  p1 = os.path.join(path,i)\n",
        "  r1 = os.path.join(result,i[:-4])\n",
        "  if os.path.exists(r1):\n",
        "            continue\n",
        "  os.makedirs(r1,exist_ok = True)\n",
        "  for k, frame in enumerate((extract_frames(p1))):\n",
        "    frame.save(os.path.join(r1, f\"{k}.jpg\"))"
      ]
    },
    {
      "cell_type": "code",
      "execution_count": null,
      "metadata": {
        "colab": {},
        "colab_type": "code",
        "id": "UTtNLnTILnxq"
      },
      "outputs": [],
      "source": [
        "path = '/content/Dataset'\n",
        "res = '/content/crime16'\n",
        "#Number\n",
        "seq_length = 16\n",
        "\n",
        "def preprocess_data(seq_length,path,res):\n",
        "  dir = os.listdir(path)\n",
        "  for i in tqdm(dir):\n",
        "      p1 = os.path.join(path,i)\n",
        "      r1 = os.path.join(res,i)\n",
        "      os.makedirs(r1,exist_ok = True)\n",
        "      for j in os.listdir(p1):\n",
        "          p2 = os.path.join(p1,j)\n",
        "          r2 = os.path.join(r1,j)\n",
        "          l = 0\n",
        "          skip_length = int(len(os.listdir(p2))/seq_length)\n",
        "          for m in range(10):\n",
        "              k = m\n",
        "              while(l!=seq_length):\n",
        "\n",
        "                  p3 = os.path.join(p2,str(k) + \".jpg\")\n",
        "                  try:\n",
        "                      img = cv2.imread(p3)\n",
        "                      img = cv2.resize(img,(128,128))\n",
        "                  except:\n",
        "                      print(p3)\n",
        "                  if(k==0):\n",
        "                      img1 = img\n",
        "                  else:\n",
        "                      img1 = np.append(img1,img,axis = 1)\n",
        "                  k = k+skip_length\n",
        "                  l = l+1    \n",
        "              cv2.imwrite(r2 + str(m)+\".jpg\",img1)\n",
        "        "
      ]
    }
  ],
  "metadata": {
    "colab": {
      "collapsed_sections": [],
      "include_colab_link": true,
      "name": "videodata.ipynb",
      "provenance": [],
      "version": "0.3.2"
    },
    "kernelspec": {
      "display_name": "Python 3.10.6 64-bit",
      "language": "python",
      "name": "python3"
    },
    "language_info": {
      "codemirror_mode": {
        "name": "ipython",
        "version": 3
      },
      "file_extension": ".py",
      "mimetype": "text/x-python",
      "name": "python",
      "nbconvert_exporter": "python",
      "pygments_lexer": "ipython3",
      "version": "3.10.6"
    },
    "vscode": {
      "interpreter": {
        "hash": "aab49d8daadd7ba4eb512375fe9d2d67de1e07cca3b3cad0660d0af9c2b16d9f"
      }
    }
  },
  "nbformat": 4,
  "nbformat_minor": 0
}
